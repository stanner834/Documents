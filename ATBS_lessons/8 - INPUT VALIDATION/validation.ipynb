{
 "cells": [
  {
   "cell_type": "code",
   "execution_count": 2,
   "metadata": {},
   "outputs": [
    {
     "name": "stdout",
     "output_type": "stream",
     "text": [
      "Enter your age:\n",
      "Please enter a positive number.\n",
      "Enter your age:\n",
      "Your age is 5.\n"
     ]
    }
   ],
   "source": [
    "while True:\n",
    "    print('Enter your age:')\n",
    "    age = input()\n",
    "    try:\n",
    "        age = int(age)\n",
    "    except:\n",
    "        print('Please use numeric digits.')\n",
    "        continue\n",
    "    if age < 1:\n",
    "        print('Please enter a positive number.')\n",
    "        continue\n",
    "    break\n",
    "\n",
    "print(f'Your age is {age}.')"
   ]
  },
  {
   "cell_type": "code",
   "execution_count": 5,
   "metadata": {},
   "outputs": [
    {
     "name": "stdout",
     "output_type": "stream",
     "text": [
      "'f' is not a number.\n",
      "'f' is not a number.\n",
      "'g' is not a number.\n",
      "'f' is not a number.\n"
     ]
    }
   ],
   "source": [
    "import pyinputplus as pyip\n",
    "response = pyip.inputNum()"
   ]
  },
  {
   "cell_type": "code",
   "execution_count": 6,
   "metadata": {},
   "outputs": [],
   "source": [
    "response = input('Enter a number: ')"
   ]
  },
  {
   "cell_type": "code",
   "execution_count": 7,
   "metadata": {},
   "outputs": [
    {
     "data": {
      "text/plain": [
       "'42'"
      ]
     },
     "execution_count": 7,
     "metadata": {},
     "output_type": "execute_result"
    }
   ],
   "source": [
    "response"
   ]
  },
  {
   "cell_type": "code",
   "execution_count": 8,
   "metadata": {},
   "outputs": [
    {
     "name": "stdout",
     "output_type": "stream",
     "text": [
      "Enter a number: 'cat' is not an integer.\n",
      "Enter a number: "
     ]
    }
   ],
   "source": [
    "import pyinputplus as pyip\n",
    "response = pyip.inputInt(prompt='Enter a number: ')"
   ]
  },
  {
   "cell_type": "code",
   "execution_count": 11,
   "metadata": {},
   "outputs": [
    {
     "name": "stdout",
     "output_type": "stream",
     "text": [
      "Enter num: Number must be at minimum 4.\n",
      "Enter num: Number must be at minimum 4.\n",
      "Enter num: Number must be at minimum 4.\n",
      "Enter num: "
     ]
    }
   ],
   "source": [
    "import pyinputplus as pyip\n",
    "response = pyip.inputNum('Enter num: ', min=4)"
   ]
  },
  {
   "cell_type": "code",
   "execution_count": 12,
   "metadata": {},
   "outputs": [
    {
     "name": "stdout",
     "output_type": "stream",
     "text": [
      "Enter num: Number must be greater than 4.\n",
      "Enter num: "
     ]
    }
   ],
   "source": [
    "response = pyip.inputNum('Enter num: ', greaterThan=4)"
   ]
  },
  {
   "cell_type": "code",
   "execution_count": 13,
   "metadata": {},
   "outputs": [
    {
     "data": {
      "text/plain": [
       "21"
      ]
     },
     "execution_count": 13,
     "metadata": {},
     "output_type": "execute_result"
    }
   ],
   "source": [
    "response"
   ]
  },
  {
   "cell_type": "code",
   "execution_count": 14,
   "metadata": {},
   "outputs": [
    {
     "name": "stdout",
     "output_type": "stream",
     "text": [
      ">Number must be at minimum 4.\n",
      ">"
     ]
    }
   ],
   "source": [
    "response = pyip.inputNum('>', min=4, lessThan=6)"
   ]
  },
  {
   "cell_type": "code",
   "execution_count": 15,
   "metadata": {},
   "outputs": [
    {
     "data": {
      "text/plain": [
       "5"
      ]
     },
     "execution_count": 15,
     "metadata": {},
     "output_type": "execute_result"
    }
   ],
   "source": [
    "response"
   ]
  },
  {
   "cell_type": "code",
   "execution_count": 16,
   "metadata": {},
   "outputs": [
    {
     "name": "stdout",
     "output_type": "stream",
     "text": [
      "Enter num: Blank values are not allowed.\n",
      "Enter num: "
     ]
    }
   ],
   "source": [
    "response = pyip.inputNum('Enter num: ')"
   ]
  },
  {
   "cell_type": "code",
   "execution_count": 17,
   "metadata": {},
   "outputs": [],
   "source": [
    "response = pyip.inputNum(blank=True)"
   ]
  },
  {
   "cell_type": "code",
   "execution_count": 18,
   "metadata": {},
   "outputs": [
    {
     "data": {
      "text/plain": [
       "''"
      ]
     },
     "execution_count": 18,
     "metadata": {},
     "output_type": "execute_result"
    }
   ],
   "source": [
    "response"
   ]
  },
  {
   "cell_type": "code",
   "execution_count": 19,
   "metadata": {},
   "outputs": [],
   "source": [
    "response = pyip.inputNum(limit=2)"
   ]
  },
  {
   "cell_type": "code",
   "execution_count": 20,
   "metadata": {},
   "outputs": [
    {
     "data": {
      "text/plain": [
       "1"
      ]
     },
     "execution_count": 20,
     "metadata": {},
     "output_type": "execute_result"
    }
   ],
   "source": [
    "response"
   ]
  },
  {
   "cell_type": "code",
   "execution_count": 21,
   "metadata": {},
   "outputs": [
    {
     "ename": "TimeoutException",
     "evalue": "",
     "output_type": "error",
     "traceback": [
      "\u001b[1;31m---------------------------------------------------------------------------\u001b[0m",
      "\u001b[1;31mTimeoutException\u001b[0m                          Traceback (most recent call last)",
      "\u001b[1;32mc:\\vscode\\Documents\\ATBS_lessons\\8 - INPUT VALIDATION\\validation.ipynb Cell 16\u001b[0m line \u001b[0;36m1\n\u001b[1;32m----> <a href='vscode-notebook-cell:/c%3A/vscode/Documents/ATBS_lessons/8%20-%20INPUT%20VALIDATION/validation.ipynb#X21sZmlsZQ%3D%3D?line=0'>1</a>\u001b[0m response \u001b[39m=\u001b[39m pyip\u001b[39m.\u001b[39;49minputNum(timeout\u001b[39m=\u001b[39;49m\u001b[39m10\u001b[39;49m)\n",
      "File \u001b[1;32m~\\AppData\\Local\\Packages\\PythonSoftwareFoundation.Python.3.11_qbz5n2kfra8p0\\LocalCache\\local-packages\\Python311\\site-packages\\pyinputplus\\__init__.py:398\u001b[0m, in \u001b[0;36minputNum\u001b[1;34m(prompt, default, blank, timeout, limit, strip, allowRegexes, blockRegexes, applyFunc, postValidateApplyFunc, min, max, greaterThan, lessThan)\u001b[0m\n\u001b[0;32m    383\u001b[0m pysv\u001b[39m.\u001b[39m_validateParamsFor_validateNum(\u001b[39mmin\u001b[39m\u001b[39m=\u001b[39m\u001b[39mmin\u001b[39m, \u001b[39mmax\u001b[39m\u001b[39m=\u001b[39m\u001b[39mmax\u001b[39m, lessThan\u001b[39m=\u001b[39mlessThan, greaterThan\u001b[39m=\u001b[39mgreaterThan)\n\u001b[0;32m    385\u001b[0m validationFunc \u001b[39m=\u001b[39m \u001b[39mlambda\u001b[39;00m value: pysv\u001b[39m.\u001b[39mvalidateNum(\n\u001b[0;32m    386\u001b[0m     value,\n\u001b[0;32m    387\u001b[0m     blank\u001b[39m=\u001b[39mblank,\n\u001b[1;32m   (...)\u001b[0m\n\u001b[0;32m    395\u001b[0m     _numType\u001b[39m=\u001b[39m\u001b[39m\"\u001b[39m\u001b[39mnum\u001b[39m\u001b[39m\"\u001b[39m,\n\u001b[0;32m    396\u001b[0m )\n\u001b[1;32m--> 398\u001b[0m \u001b[39mreturn\u001b[39;00m _genericInput(\n\u001b[0;32m    399\u001b[0m     prompt\u001b[39m=\u001b[39;49mprompt,\n\u001b[0;32m    400\u001b[0m     default\u001b[39m=\u001b[39;49mdefault,\n\u001b[0;32m    401\u001b[0m     timeout\u001b[39m=\u001b[39;49mtimeout,\n\u001b[0;32m    402\u001b[0m     limit\u001b[39m=\u001b[39;49mlimit,\n\u001b[0;32m    403\u001b[0m     applyFunc\u001b[39m=\u001b[39;49mapplyFunc,\n\u001b[0;32m    404\u001b[0m     postValidateApplyFunc\u001b[39m=\u001b[39;49mpostValidateApplyFunc,\n\u001b[0;32m    405\u001b[0m     validationFunc\u001b[39m=\u001b[39;49mvalidationFunc,\n\u001b[0;32m    406\u001b[0m )\n",
      "File \u001b[1;32m~\\AppData\\Local\\Packages\\PythonSoftwareFoundation.Python.3.11_qbz5n2kfra8p0\\LocalCache\\local-packages\\Python311\\site-packages\\pyinputplus\\__init__.py:203\u001b[0m, in \u001b[0;36m_genericInput\u001b[1;34m(prompt, default, timeout, limit, applyFunc, validationFunc, postValidateApplyFunc, passwordMask)\u001b[0m\n\u001b[0;32m    201\u001b[0m         \u001b[39mreturn\u001b[39;00m default\n\u001b[0;32m    202\u001b[0m     \u001b[39melse\u001b[39;00m:\n\u001b[1;32m--> 203\u001b[0m         \u001b[39mraise\u001b[39;00m TimeoutException()\n\u001b[0;32m    205\u001b[0m \u001b[39mif\u001b[39;00m postValidateApplyFunc \u001b[39mis\u001b[39;00m \u001b[39mnot\u001b[39;00m \u001b[39mNone\u001b[39;00m:\n\u001b[0;32m    206\u001b[0m     \u001b[39mreturn\u001b[39;00m postValidateApplyFunc(userInput)\n",
      "\u001b[1;31mTimeoutException\u001b[0m: "
     ]
    }
   ],
   "source": [
    "response = pyip.inputNum(timeout=10)"
   ]
  },
  {
   "cell_type": "code",
   "execution_count": 22,
   "metadata": {},
   "outputs": [
    {
     "name": "stdout",
     "output_type": "stream",
     "text": [
      "'re' is not a number.\n",
      "'e' is not a number.\n"
     ]
    }
   ],
   "source": [
    "response = pyip.inputNum(limit=2, default='N/A')"
   ]
  },
  {
   "cell_type": "code",
   "execution_count": 23,
   "metadata": {},
   "outputs": [
    {
     "data": {
      "text/plain": [
       "'N/A'"
      ]
     },
     "execution_count": 23,
     "metadata": {},
     "output_type": "execute_result"
    }
   ],
   "source": [
    "response"
   ]
  },
  {
   "cell_type": "code",
   "execution_count": 24,
   "metadata": {},
   "outputs": [
    {
     "name": "stdout",
     "output_type": "stream",
     "text": [
      "'e' is not a number.\n"
     ]
    }
   ],
   "source": [
    "response = pyip.inputNum(allowRegexes=[r'(I|V|X|L|C|D|M)+', r'zero'])"
   ]
  },
  {
   "cell_type": "code",
   "execution_count": 25,
   "metadata": {},
   "outputs": [
    {
     "name": "stdout",
     "output_type": "stream",
     "text": [
      "This response is invalid.\n"
     ]
    }
   ],
   "source": [
    "response = pyip.inputNum(blockRegexes=[r'[02468]$'])"
   ]
  },
  {
   "cell_type": "code",
   "execution_count": 26,
   "metadata": {},
   "outputs": [
    {
     "name": "stdout",
     "output_type": "stream",
     "text": [
      "This response is invalid.\n",
      "This response is invalid.\n"
     ]
    }
   ],
   "source": [
    "response = pyip.inputStr(allowRegexes=[r'caterpillar', 'category'],blockRegexes=[r'cat'])"
   ]
  },
  {
   "cell_type": "code",
   "execution_count": 27,
   "metadata": {},
   "outputs": [],
   "source": [
    "import pyinputplus as pyip\n",
    "def addsUpToTen(numbers):\n",
    "    numbersList = list(numbers)\n",
    "    for i, digit in enumerate(numbersList):\n",
    "        numbersList[i] = int(digit)\n",
    "    if sum(numbersList) != 10:\n",
    "        raise Exception('The digits must add up to 10, not %s.' %(sum(numbersList)))\n",
    "    return int(numbers)"
   ]
  },
  {
   "cell_type": "code",
   "execution_count": 28,
   "metadata": {},
   "outputs": [
    {
     "name": "stdout",
     "output_type": "stream",
     "text": [
      "The digits must add up to 10, not 6.\n",
      "The digits must add up to 10, not 11.\n"
     ]
    }
   ],
   "source": [
    "response = pyip.inputCustom(addsUpToTen)"
   ]
  },
  {
   "cell_type": "code",
   "execution_count": 29,
   "metadata": {},
   "outputs": [
    {
     "data": {
      "text/plain": [
       "1234"
      ]
     },
     "execution_count": 29,
     "metadata": {},
     "output_type": "execute_result"
    }
   ],
   "source": [
    "response"
   ]
  },
  {
   "cell_type": "code",
   "execution_count": 30,
   "metadata": {},
   "outputs": [
    {
     "name": "stdout",
     "output_type": "stream",
     "text": [
      "invalid literal for int() with base 10: 'h'\n"
     ]
    }
   ],
   "source": [
    "response = pyip.inputCustom(addsUpToTen)"
   ]
  },
  {
   "cell_type": "code",
   "execution_count": 31,
   "metadata": {},
   "outputs": [
    {
     "data": {
      "text/plain": [
       "55"
      ]
     },
     "execution_count": 31,
     "metadata": {},
     "output_type": "execute_result"
    }
   ],
   "source": [
    "response"
   ]
  },
  {
   "cell_type": "code",
   "execution_count": null,
   "metadata": {},
   "outputs": [],
   "source": []
  }
 ],
 "metadata": {
  "kernelspec": {
   "display_name": "Python 3",
   "language": "python",
   "name": "python3"
  },
  "language_info": {
   "codemirror_mode": {
    "name": "ipython",
    "version": 3
   },
   "file_extension": ".py",
   "mimetype": "text/x-python",
   "name": "python",
   "nbconvert_exporter": "python",
   "pygments_lexer": "ipython3",
   "version": "3.11.6"
  }
 },
 "nbformat": 4,
 "nbformat_minor": 2
}
