{
 "cells": [
  {
   "cell_type": "code",
   "execution_count": 1,
   "metadata": {},
   "outputs": [
    {
     "data": {
      "text/plain": [
       "6"
      ]
     },
     "execution_count": 1,
     "metadata": {},
     "output_type": "execute_result"
    }
   ],
   "source": [
    "def my_function():\n",
    "    result = 3 * 2\n",
    "    return result\n",
    "my_function() #arugments"
   ]
  },
  {
   "cell_type": "code",
   "execution_count": 12,
   "metadata": {},
   "outputs": [
    {
     "name": "stdout",
     "output_type": "stream",
     "text": [
      "Angela Angela\n"
     ]
    }
   ],
   "source": [
    "def format_name(f_name,l_name): #parameters\n",
    "    fullname = f_name.title() + \" \" + l_name.title()\n",
    "    print(fullname)\n",
    "    \n",
    "format_name(\"AnGEla\",\"ANGELA\") #arguments"
   ]
  },
  {
   "cell_type": "markdown",
   "metadata": {},
   "source": [
    "A variable is a symbolic name that represents a value stored in the computer's memory. In programming, variables are used to store and manipulate data. \n",
    "\n",
    "Here are some key points about variables:\n",
    "\n",
    "1. **Symbolic Name**: A variable is identified by a name that you, as the programmer, choose. This name is used to refer to the value stored in memory.\n",
    "\n",
    "2. **Data Storage**: Variables can store different types of data, such as numbers, strings, lists, or more complex data structures. The type of data a variable can hold is determined by its data type.\n",
    "\n",
    "3. **Assignment**: To assign a value to a variable, you use the assignment operator (`=`). For example, `x = 10` assigns the value `10` to the variable `x`.\n",
    "\n",
    "4. **Memory Location**: When you assign a value to a variable, the computer allocates memory to store that value. The variable name acts as a reference to the memory location where the value is stored.\n",
    "\n",
    "5. **Mutable vs. Immutable**: In some programming languages, variables can be mutable or immutable. Mutable variables allow their value to be changed after they are assigned, while immutable variables do not.\n",
    "\n",
    "6. **Scope**: Variables have a scope, which defines where in the code they are accessible. Variables can have global scope, meaning they are accessible throughout the entire program, or local scope, meaning they are only accessible within a specific block of code.\n",
    "\n",
    "7. **Naming Conventions**: It's important to follow naming conventions when naming variables. Variable names should be descriptive, meaningful, and follow the rules of the programming language.\n",
    "\n",
    "In summary, a variable is a fundamental concept in programming that allows you to store and manipulate data in memory using symbolic names. Understanding how to work with variables is essential for writing effective and efficient code."
   ]
  },
  {
   "cell_type": "code",
   "execution_count": 7,
   "metadata": {},
   "outputs": [
    {
     "name": "stdout",
     "output_type": "stream",
     "text": [
      "Memory location of first_name: 1990638312112 1990638312112\n",
      "Memory location of last_name: 1990637640880 1990637640880\n"
     ]
    }
   ],
   "source": [
    "first_name = \"john\"\n",
    "last_name = \"doe\"\n",
    "newname = last_name\n",
    "lastnewname = \"nec\"\n",
    "nothername = \"nec\"\n",
    "lastnewname == nothername\n",
    "print(\"Memory location of first_name:\", id(nothername), id(lastnewname))\n",
    "print(\"Memory location of last_name:\", id(last_name), id(newname))\n"
   ]
  },
  {
   "cell_type": "code",
   "execution_count": 8,
   "metadata": {},
   "outputs": [
    {
     "name": "stdout",
     "output_type": "stream",
     "text": [
      "Memory location of newname: 140704274469672\n",
      "Memory location of nothername: 140704274469672\n"
     ]
    }
   ],
   "source": [
    "newname = 1\n",
    "nothername = 1\n",
    "\n",
    "print(\"Memory location of newname:\", id(newname))\n",
    "print(\"Memory location of nothername:\", id(nothername))\n"
   ]
  },
  {
   "cell_type": "code",
   "execution_count": 9,
   "metadata": {},
   "outputs": [
    {
     "name": "stdout",
     "output_type": "stream",
     "text": [
      "Memory location of big_number1: 1990637494672\n",
      "Memory location of big_number2: 1990637494544\n"
     ]
    }
   ],
   "source": [
    "big_number1 = 1000000\n",
    "big_number2 = 1000000\n",
    "\n",
    "print(\"Memory location of big_number1:\", id(big_number1))\n",
    "print(\"Memory location of big_number2:\", id(big_number2))\n"
   ]
  },
  {
   "cell_type": "markdown",
   "metadata": {},
   "source": [
    "Yes, the memory location returned by the `id()` function in Python refers to the address of the object in memory, specifically in RAM (Random Access Memory). Each object in Python is stored in a specific location in memory, and the `id()` function returns the unique identifier (memory address) associated with that location.\n",
    "\n",
    "In simpler terms, you can think of the memory location as the physical address where the data is stored in your computer's RAM. Each variable in your Python program holds a reference to this memory location, allowing Python to access and manipulate the data stored there."
   ]
  },
  {
   "cell_type": "markdown",
   "metadata": {},
   "source": [
    "A function is a block of reusable code that performs a specific task or a set of tasks. Functions allow you to break down your code into smaller, more manageable pieces, making it easier to organize, understand, and maintain.\n",
    "\n",
    "Here are some key points about functions:\n",
    "\n",
    "1. **Reusability**: Functions can be called multiple times from different parts of your program, allowing you to reuse the same code without duplicating it. This promotes code reuse and helps in maintaining a clean and modular codebase.\n",
    "\n",
    "2. **Abstraction**: Functions encapsulate a set of instructions into a single unit, hiding the implementation details from the rest of the program. This allows you to focus on what the function does (its purpose or behavior) rather than how it accomplishes it (its implementation details).\n",
    "\n",
    "3. **Modularity**: Functions promote modularity by breaking down complex tasks into smaller, more manageable sub-tasks. Each function can be designed to perform a specific task or solve a specific problem, making the overall codebase easier to understand and maintain.\n",
    "\n",
    "4. **Parameters and Arguments**: Functions can accept input parameters, also known as arguments, which allow you to pass data to the function. These parameters can be used within the function to customize its behavior or perform calculations. When calling a function, you provide arguments that match the parameters defined in the function's signature.\n",
    "\n",
    "5. **Return Value**: Functions can also return a value as a result of their execution. This return value can be used by the calling code for further processing or to make decisions based on the function's output.\n",
    "\n",
    "6. **Function Signature**: A function's signature defines its name, parameters, return type (if any), and other metadata such as visibility (public, private, etc.). This signature helps in defining and documenting the function's interface.\n",
    "\n",
    "7. **Built-in and User-defined Functions**: Programming languages come with built-in functions that provide common functionality (e.g., mathematical operations, string manipulation). Additionally, you can define your own custom functions to address specific requirements unique to your application.\n",
    "\n",
    "In summary, functions are essential building blocks of programming that enable code reuse, abstraction, and modularity. By encapsulating logic into functions, you can create more organized, maintainable, and scalable software solutions."
   ]
  },
  {
   "cell_type": "markdown",
   "metadata": {},
   "source": [
    "Methods are functions that are associated with specific objects or data types in object-oriented programming (OOP). In many programming languages, including Python, methods are used to perform actions or operations on objects and are accessed using dot notation.\n",
    "\n",
    "Here are some key points about methods:\n",
    "\n",
    "1. **Associated with Objects**: Methods are defined within classes and are associated with specific objects or instances of those classes. They operate on the data stored within the object and can modify its state.\n",
    "\n",
    "2. **Object-Oriented Programming (OOP)**: Methods are a fundamental concept in object-oriented programming, where objects are the building blocks of code and represent real-world entities or concepts. Methods define the behavior of objects and allow them to interact with each other.\n",
    "\n",
    "3. **Dot Notation**: Methods are called using dot notation, where you specify the object followed by a dot (`.`) and then the method name. For example, if `obj` is an object of class `MyClass` and `method()` is a method defined within `MyClass`, you would call the method as `obj.method()`.\n",
    "\n",
    "4. **Accessing Object Attributes**: Methods can access and modify the attributes (properties or data) of the object they are associated with. This allows methods to encapsulate functionality related to the object's data and behavior.\n",
    "\n",
    "5. **Self Parameter**: In many object-oriented programming languages, including Python, methods have a special first parameter called `self`. This parameter refers to the object itself and is used within the method to access the object's attributes and other methods.\n",
    "\n",
    "6. **Instance Methods vs. Class Methods**: In Python, methods can be either instance methods or class methods. Instance methods operate on individual instances of a class and typically use the `self` parameter. Class methods are associated with the class itself rather than with specific instances and use the `cls` parameter instead of `self`.\n",
    "\n",
    "7. **Built-in Methods**: Many built-in data types in Python, such as lists, strings, and dictionaries, come with pre-defined methods that provide common functionality. For example, `append()` and `pop()` are methods for lists, `upper()` and `lower()` are methods for strings, and `keys()` and `values()` are methods for dictionaries.\n",
    "\n",
    "In summary, methods are functions associated with objects in object-oriented programming, used to define the behavior of those objects and perform actions or operations on them. They are accessed using dot notation and can modify the object's state and interact with other objects in the program."
   ]
  },
  {
   "cell_type": "code",
   "execution_count": 14,
   "metadata": {},
   "outputs": [
    {
     "name": "stdout",
     "output_type": "stream",
     "text": [
      "Angela Angela\n"
     ]
    }
   ],
   "source": [
    "def format_name(f_name,l_name): #parameters\n",
    "    fullname = f_name.title() + \" \" + l_name.title()\n",
    "    print(f\"{fullname}\")\n",
    "    \n",
    "format_name(\"AnGEla\",\"ANGELA\") #arguments"
   ]
  },
  {
   "cell_type": "code",
   "execution_count": 15,
   "metadata": {},
   "outputs": [
    {
     "name": "stdout",
     "output_type": "stream",
     "text": [
      "Angela Angela\n"
     ]
    }
   ],
   "source": [
    "def format_name(f_name,l_name): #parameters\n",
    "    fullname = f_name.title() + \" \" + l_name.title()\n",
    "    return f\"{fullname}\" # return tells the computer that it is the end of the function\n",
    "    \n",
    "newname = format_name(\"AnGEla\",\"ANGELA\") #arguments\n",
    "print(newname)"
   ]
  },
  {
   "cell_type": "code",
   "execution_count": 19,
   "metadata": {},
   "outputs": [
    {
     "name": "stdout",
     "output_type": "stream",
     "text": [
      "<function format_name at 0x000001CF7B3BFF60>\n",
      " \n"
     ]
    }
   ],
   "source": [
    "def format_name(f_name,l_name): #parameters\n",
    "    if f_name == \"\" or l_name == \"\":\n",
    "        return \"You did not provide valid inputs.\"\n",
    "    fullname = f_name.title() + \" \" + l_name.title()\n",
    "    return f\"{fullname}\" # return tells the computer that it is the end of the function\n",
    "    \n",
    "newname = format_name(input(\"What is your first name?\"),input(\"What is your last name?\"))\n",
    "print(format_name)\n",
    "print(newname)\n",
    "#0x represents hexidecimal at the beginning of the number\n",
    "#0000 0000 0000 0000 0000 0000 0000 0001 1100 1111 0111 1011 0011 1011 1111 1111 0110\n",
    "# 8 bit's = 1 byte\n",
    "# hex is base 16, binary is base 2, decimal system is base 10"
   ]
  },
  {
   "cell_type": "markdown",
   "metadata": {},
   "source": [
    "The main benefit of using a `return` statement instead of a `print` statement inside a function is that `return` allows the function to produce a value that can be used by the caller or other parts of the program. Here are some key advantages:\n",
    "\n",
    "1. **Modularity and Reusability**: Using `return` allows functions to be more modular and reusable. Instead of just printing output to the console, the function can return a value that can be used by other parts of the program. This makes the function more versatile and enables it to be used in different contexts.\n",
    "\n",
    "2. **Flexibility**: Functions that use `return` can be used in a wider variety of scenarios. The caller can decide what to do with the returned value – it can be stored in a variable, passed to another function, used in a conditional statement, etc. This flexibility makes the code more adaptable to different requirements.\n",
    "\n",
    "3. **Composition**: Functions that `return` values can be composed together more easily. You can call one function from another and use the returned value as input for further processing. This enables you to build more complex behavior by combining simpler functions.\n",
    "\n",
    "4. **Testing**: Functions that `return` values are easier to test because you can verify the output directly. You can write test cases that call the function with specific inputs and assert that the returned value matches the expected result. This makes it easier to ensure the correctness of your code.\n",
    "\n",
    "5. **Separation of Concerns**: Using `return` separates the concerns of computation and output. The function is responsible for performing a specific task and producing a result, while the caller decides how to handle or display that result. This separation makes the code more organized and easier to understand.\n",
    "\n",
    "In contrast, using `print` inside a function primarily serves the purpose of displaying output to the console, which may not be as versatile or reusable as returning a value. While `print` can be useful for debugging or providing feedback during development, `return` is generally preferred when you want the function to produce a result that can be used by other parts of the program."
   ]
  },
  {
   "cell_type": "markdown",
   "metadata": {},
   "source": [
    "A namespace is a container that holds a set of identifiers (such as variable names, function names, class names, etc.) and their associated objects (values, functions, classes, etc.). It provides a way to organize and manage identifiers in a program to avoid name conflicts and provide context for the names used.\n",
    "\n",
    "Here are some key points about namespaces:\n",
    "\n",
    "1. **Scope**: A namespace defines the scope within which identifiers are valid and can be accessed. Each namespace is associated with a specific context or scope, such as a module, function, class, or package.\n",
    "\n",
    "2. **Avoiding Name Conflicts**: Namespaces help prevent name conflicts by allowing the same identifier to be used in different namespaces without ambiguity. Each namespace maintains its own set of unique identifiers.\n",
    "\n",
    "3. **Accessing Identifiers**: Identifiers within a namespace can be accessed using dot notation. For example, in Python, you can access a function `foo` defined in module `bar` using `bar.foo`.\n",
    "\n",
    "4. **Global and Local Namespaces**: In many programming languages, such as Python, there are global and local namespaces. The global namespace contains identifiers defined at the top level of a module or script, while local namespaces are created within functions or other nested scopes.\n",
    "\n",
    "5. **Module Namespace**: In Python, each module has its own namespace, which serves as the scope for the identifiers defined within the module. Module namespaces help organize code and provide a way to encapsulate related functionality.\n",
    "\n",
    "6. **Class Namespace**: Similarly, each class in Python has its own namespace, which contains the class attributes (variables) and methods defined within the class. Class namespaces help encapsulate behavior and data within the class definition.\n",
    "\n",
    "7. **Encapsulation and Modularity**: Namespaces support encapsulation and modularity by providing a way to organize code into logical units and manage the visibility and accessibility of identifiers.\n",
    "\n",
    "In summary, a namespace is a container that holds identifiers and their associated objects within a program. It provides a mechanism for organizing and managing identifiers, avoiding name conflicts, and providing context for the names used. Namespaces are essential for encapsulation, modularity, and maintaining the integrity of programs.\n",
    "\n",
    "packages are normally seoperated by the __init__ to add it to the namespace, so objects can be accessed using dot notation."
   ]
  },
  {
   "cell_type": "code",
   "execution_count": 21,
   "metadata": {},
   "outputs": [
    {
     "name": "stdout",
     "output_type": "stream",
     "text": [
      "2\n"
     ]
    }
   ],
   "source": [
    "result = 2018 % 4\n",
    "print(result)"
   ]
  },
  {
   "cell_type": "markdown",
   "metadata": {},
   "source": [
    "In object-oriented programming (OOP), a **class** is a blueprint or template for creating objects. It defines the properties (attributes) and behaviors (methods) that objects of the class will have. A class serves as a user-defined data type, encapsulating data and functionality into a single unit.\n",
    "\n",
    "An **attribute** is a variable that belongs to a class or object. Attributes represent the state or characteristics of an object. They store data associated with the object and define its properties. For example, in a `Car` class, attributes could include `color`, `make`, `model`, and `year`.\n",
    "\n",
    "A **method** is a function defined within a class that performs some action or behavior associated with the class or its objects. Methods represent the operations that objects of the class can perform. They can manipulate the object's attributes and interact with other objects. For example, in a `Car` class, methods could include `start()`, `drive()`, `stop()`, and `park()`.\n",
    "\n",
    "In OOP, classes, methods, and attributes work together to model real-world entities and encapsulate related functionality. Here's how they interact:\n",
    "\n",
    "1. **Class Definition:**\n",
    "   - The class definition serves as a template for creating objects.\n",
    "   - It defines the structure and behavior of objects belonging to that class.\n",
    "   - Attributes and methods are declared within the class definition.\n",
    "\n",
    "2. **Object Creation:**\n",
    "   - Objects (instances) of a class are created based on the class definition.\n",
    "   - Each object has its own set of attributes, which are initialized when the object is created.\n",
    "   - Objects share the methods defined in the class but may have different attribute values.\n",
    "\n",
    "3. **Attribute Access:**\n",
    "   - Attributes define the state of an object and can be accessed and modified using dot notation (`object.attribute`).\n",
    "   - Attributes store data associated with each object and represent its properties.\n",
    "   - They encapsulate the object's state and provide a way to access and manipulate its data.\n",
    "\n",
    "4. **Method Invocation:**\n",
    "   - Methods define the behavior of objects and can be invoked to perform specific actions.\n",
    "   - Methods operate on the object's attributes and may interact with other objects or the environment.\n",
    "   - They encapsulate functionality associated with the class and provide a way to perform operations on objects.\n",
    "\n",
    "In summary, classes define the structure and behavior of objects, attributes represent the state of objects, and methods define the actions that objects can perform. Together, they enable the principles of encapsulation, inheritance, and polymorphism, which are fundamental concepts in OOP for creating modular, reusable, and maintainable code.\n"
   ]
  },
  {
   "cell_type": "code",
   "execution_count": 3,
   "metadata": {},
   "outputs": [],
   "source": [
    "def format_name(): #docstrings\n",
    "    '''Take a first and last name and format it\n",
    "    to return the title case vesion of the name'''"
   ]
  },
  {
   "cell_type": "code",
   "execution_count": 4,
   "metadata": {},
   "outputs": [],
   "source": [
    "format_name() #notice when you hover over the function call, the doc string description is there"
   ]
  },
  {
   "cell_type": "code",
   "execution_count": 5,
   "metadata": {},
   "outputs": [],
   "source": [
    "# you can also\n",
    "# do this\n",
    "# using control slash on windows"
   ]
  },
  {
   "cell_type": "code",
   "execution_count": 6,
   "metadata": {},
   "outputs": [
    {
     "name": "stdout",
     "output_type": "stream",
     "text": [
      "15\n"
     ]
    }
   ],
   "source": [
    "def outer_function(a, b):\n",
    "    def inner_function(c, d):\n",
    "        return c + d\n",
    "    return inner_function(a, b)\n",
    " \n",
    "result = outer_function(5, 10)\n",
    "print(result)"
   ]
  },
  {
   "cell_type": "code",
   "execution_count": null,
   "metadata": {},
   "outputs": [],
   "source": []
  }
 ],
 "metadata": {
  "kernelspec": {
   "display_name": "Python 3",
   "language": "python",
   "name": "python3"
  },
  "language_info": {
   "codemirror_mode": {
    "name": "ipython",
    "version": 3
   },
   "file_extension": ".py",
   "mimetype": "text/x-python",
   "name": "python",
   "nbconvert_exporter": "python",
   "pygments_lexer": "ipython3",
   "version": "3.11.8"
  }
 },
 "nbformat": 4,
 "nbformat_minor": 2
}
