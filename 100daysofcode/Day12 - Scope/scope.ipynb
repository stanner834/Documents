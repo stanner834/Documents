{
 "cells": [
  {
   "cell_type": "code",
   "execution_count": 1,
   "metadata": {},
   "outputs": [
    {
     "name": "stdout",
     "output_type": "stream",
     "text": [
      "enemies inside function: 2\n",
      "enemies outside function: 1\n"
     ]
    }
   ],
   "source": [
    "################### Scope ####################\n",
    "\n",
    "enemies = 1\n",
    "\n",
    "def increase_enemies():\n",
    "  enemies = 2\n",
    "  print(f\"enemies inside function: {enemies}\")\n",
    "\n",
    "increase_enemies()\n",
    "print(f\"enemies outside function: {enemies}\")"
   ]
  },
  {
   "cell_type": "code",
   "execution_count": 2,
   "metadata": {},
   "outputs": [
    {
     "name": "stdout",
     "output_type": "stream",
     "text": [
      "2\n"
     ]
    },
    {
     "ename": "NameError",
     "evalue": "name 'portion_strength' is not defined",
     "output_type": "error",
     "traceback": [
      "\u001b[1;31m---------------------------------------------------------------------------\u001b[0m",
      "\u001b[1;31mNameError\u001b[0m                                 Traceback (most recent call last)",
      "Cell \u001b[1;32mIn[2], line 5\u001b[0m\n\u001b[0;32m      3\u001b[0m     \u001b[38;5;28mprint\u001b[39m(potion_strength)\n\u001b[0;32m      4\u001b[0m drink_potion()\n\u001b[1;32m----> 5\u001b[0m \u001b[38;5;28mprint\u001b[39m(\u001b[43mportion_strength\u001b[49m)\n",
      "\u001b[1;31mNameError\u001b[0m: name 'portion_strength' is not defined"
     ]
    }
   ],
   "source": [
    "def drink_potion():\n",
    "    potion_strength = 2\n",
    "    print(potion_strength)\n",
    "drink_potion()\n",
    "print(portion_strength)"
   ]
  },
  {
   "cell_type": "code",
   "execution_count": 6,
   "metadata": {},
   "outputs": [
    {
     "name": "stdout",
     "output_type": "stream",
     "text": [
      "2\n",
      "10\n"
     ]
    }
   ],
   "source": [
    "playerhealth = 10 #Global scope\n",
    "\n",
    "def game():\n",
    "    def drink_potion():\n",
    "        potion_strength = 2\n",
    "        print(potion_strength)\n",
    "        print(playerhealth)\n",
    "    drink_potion()\n",
    "    \n",
    "game()"
   ]
  },
  {
   "cell_type": "code",
   "execution_count": 8,
   "metadata": {},
   "outputs": [
    {
     "name": "stdout",
     "output_type": "stream",
     "text": [
      "1\n"
     ]
    }
   ],
   "source": [
    "enemies = [1,2,3,4]\n",
    "game_level = 3\n",
    "if game_level < 5:\n",
    "    new_enemy = enemies[0] #still local scope. \n",
    "    \n",
    "print(new_enemy) #this is a valid code even though it is in a if statement. But if you were to define a function it would not be."
   ]
  },
  {
   "cell_type": "code",
   "execution_count": 12,
   "metadata": {},
   "outputs": [
    {
     "name": "stdout",
     "output_type": "stream",
     "text": [
      "enemies inside function 2\n",
      "Outside of the function 1\n"
     ]
    }
   ],
   "source": [
    "enemies = 1\n",
    "game_level = 3\n",
    "def create_enemy():\n",
    "    enemies = 2\n",
    "    print(f\"enemies inside function {enemies}\")\n",
    "    \n",
    "create_enemy()\n",
    "print(f\"Outside of the function {enemies}\")"
   ]
  },
  {
   "cell_type": "code",
   "execution_count": 14,
   "metadata": {},
   "outputs": [
    {
     "name": "stdout",
     "output_type": "stream",
     "text": [
      "Global function 2\n",
      "Outside of the function 2\n"
     ]
    }
   ],
   "source": [
    "enemies = 1 #usually do not want to modify the global scope in Python\n",
    "game_level = 3\n",
    "def create_enemy():\n",
    "    global enemies\n",
    "    enemies = 2\n",
    "    print(f\"Global function {enemies}\")\n",
    "    \n",
    "create_enemy()\n",
    "print(f\"Outside of the function {enemies}\")"
   ]
  },
  {
   "cell_type": "code",
   "execution_count": null,
   "metadata": {},
   "outputs": [],
   "source": [
    "#Global constants never change / Use all uppercase"
   ]
  }
 ],
 "metadata": {
  "kernelspec": {
   "display_name": "Python 3",
   "language": "python",
   "name": "python3"
  },
  "language_info": {
   "codemirror_mode": {
    "name": "ipython",
    "version": 3
   },
   "file_extension": ".py",
   "mimetype": "text/x-python",
   "name": "python",
   "nbconvert_exporter": "python",
   "pygments_lexer": "ipython3",
   "version": "3.11.8"
  }
 },
 "nbformat": 4,
 "nbformat_minor": 2
}
