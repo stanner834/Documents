{
 "cells": [
  {
   "cell_type": "code",
   "execution_count": 2,
   "metadata": {},
   "outputs": [
    {
     "name": "stdout",
     "output_type": "stream",
     "text": [
      "Apple\n",
      "Apple Pie\n",
      "Peach\n",
      "Peach Pie\n",
      "Pear\n",
      "Pear Pie\n",
      "['Apple', 'Peach', 'Pear']\n"
     ]
    }
   ],
   "source": [
    "fruits = [\"Apple\", \"Peach\", \"Pear\"]\n",
    "for fruit in fruits:\n",
    "  print(fruit)\n",
    "  print(fruit + \" Pie\")\n",
    "print(fruits) "
   ]
  },
  {
   "cell_type": "code",
   "execution_count": 5,
   "metadata": {},
   "outputs": [
    {
     "name": "stdout",
     "output_type": "stream",
     "text": [
      "Apple\n",
      "['Apple', 'Peach', 'Pie']\n",
      "Peach\n",
      "['Apple', 'Peach', 'Pie']\n",
      "Pie\n",
      "['Apple', 'Peach', 'Pie']\n",
      "['Apple', 'Peach', 'Pie']\n"
     ]
    }
   ],
   "source": [
    "fruits = [\"Apple\", \"Peach\", \"Pie\"]\n",
    "for fruit in fruits:\n",
    "    print(fruit)\n",
    "    print(fruits)\n",
    "print(fruits)"
   ]
  },
  {
   "cell_type": "code",
   "execution_count": 3,
   "metadata": {},
   "outputs": [
    {
     "name": "stdout",
     "output_type": "stream",
     "text": [
      "1\n",
      "3\n",
      "5\n",
      "7\n",
      "9\n"
     ]
    }
   ],
   "source": [
    "for num in range(1,11,2):\n",
    "    print(num)"
   ]
  },
  {
   "cell_type": "code",
   "execution_count": 5,
   "metadata": {},
   "outputs": [
    {
     "name": "stdout",
     "output_type": "stream",
     "text": [
      "5050\n"
     ]
    }
   ],
   "source": [
    "tot = 0\n",
    "for number in range(1,101):\n",
    "    tot += number\n",
    "\n",
    "print(tot)"
   ]
  },
  {
   "cell_type": "code",
   "execution_count": null,
   "metadata": {},
   "outputs": [],
   "source": []
  }
 ],
 "metadata": {
  "kernelspec": {
   "display_name": "Python 3",
   "language": "python",
   "name": "python3"
  },
  "language_info": {
   "codemirror_mode": {
    "name": "ipython",
    "version": 3
   },
   "file_extension": ".py",
   "mimetype": "text/x-python",
   "name": "python",
   "nbconvert_exporter": "python",
   "pygments_lexer": "ipython3",
   "version": "3.11.4"
  },
  "orig_nbformat": 4
 },
 "nbformat": 4,
 "nbformat_minor": 2
}
