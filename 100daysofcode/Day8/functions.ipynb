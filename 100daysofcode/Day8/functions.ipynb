{
 "cells": [
  {
   "cell_type": "code",
   "execution_count": 1,
   "metadata": {},
   "outputs": [],
   "source": [
    "def greet():\n",
    "    print(\"Hello\")\n",
    "    print(\"How do you do\")\n",
    "    print(\"Is the weather nice today?\")"
   ]
  },
  {
   "cell_type": "code",
   "execution_count": 2,
   "metadata": {},
   "outputs": [
    {
     "name": "stdout",
     "output_type": "stream",
     "text": [
      "Hello\n",
      "How do you do\n",
      "Is the weather nice today?\n"
     ]
    }
   ],
   "source": [
    "greet()"
   ]
  },
  {
   "cell_type": "code",
   "execution_count": 5,
   "metadata": {},
   "outputs": [
    {
     "name": "stdout",
     "output_type": "stream",
     "text": [
      "Hello rachel\n"
     ]
    }
   ],
   "source": [
    "def greetbyname(name):\n",
    "    print(f\"Hello {name}\")\n",
    "myname = input()    \n",
    "greetbyname(myname)"
   ]
  },
  {
   "cell_type": "code",
   "execution_count": 1,
   "metadata": {},
   "outputs": [
    {
     "name": "stdout",
     "output_type": "stream",
     "text": [
      "Hello Sam, Dallas\n"
     ]
    }
   ],
   "source": [
    "def greetbyname(name,location):\n",
    "    print(f\"Hello {name}, {location}\")\n",
    "  \n",
    "greetbyname(\"Sam\",\"Dallas\")"
   ]
  },
  {
   "cell_type": "code",
   "execution_count": 2,
   "metadata": {},
   "outputs": [
    {
     "name": "stdout",
     "output_type": "stream",
     "text": [
      "Hello Dallas, Sam\n"
     ]
    }
   ],
   "source": [
    "def greetbyname(name,location):\n",
    "    print(f\"Hello {name}, {location}\")\n",
    "  \n",
    "greetbyname(\"Dallas\",\"Sam\")"
   ]
  },
  {
   "cell_type": "code",
   "execution_count": 4,
   "metadata": {},
   "outputs": [
    {
     "name": "stdout",
     "output_type": "stream",
     "text": [
      "Hello Sam, Dallas\n"
     ]
    }
   ],
   "source": [
    "def greetbyname(name,location):\n",
    "    print(f\"Hello {name}, {location}\")\n",
    "  \n",
    "greetbyname(name=\"Sam\",location=\"Dallas\")"
   ]
  },
  {
   "cell_type": "code",
   "execution_count": 5,
   "metadata": {},
   "outputs": [
    {
     "name": "stdout",
     "output_type": "stream",
     "text": [
      "Hello Sam, St.LOuis\n"
     ]
    }
   ],
   "source": [
    "def greetbyname(name,location):\n",
    "    print(f\"Hello {name}, {location}\")\n",
    "  \n",
    "greetbyname(location=\"St.LOuis\",name=\"Sam\")"
   ]
  },
  {
   "cell_type": "code",
   "execution_count": 1,
   "metadata": {},
   "outputs": [
    {
     "name": "stdout",
     "output_type": "stream",
     "text": [
      "2\n"
     ]
    }
   ],
   "source": [
    "my_list = [10, 20, 30, 40, 50]\n",
    "index = my_list.index(30)\n",
    "print(index)  # This will print 2 because 30 is at index 2 in the list\n"
   ]
  },
  {
   "cell_type": "code",
   "execution_count": null,
   "metadata": {},
   "outputs": [],
   "source": []
  }
 ],
 "metadata": {
  "kernelspec": {
   "display_name": "Python 3",
   "language": "python",
   "name": "python3"
  },
  "language_info": {
   "codemirror_mode": {
    "name": "ipython",
    "version": 3
   },
   "file_extension": ".py",
   "mimetype": "text/x-python",
   "name": "python",
   "nbconvert_exporter": "python",
   "pygments_lexer": "ipython3",
   "version": "3.11.6"
  }
 },
 "nbformat": 4,
 "nbformat_minor": 2
}
