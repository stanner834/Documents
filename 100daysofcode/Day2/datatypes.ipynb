{
 "cells": [
  {
   "cell_type": "code",
   "execution_count": 1,
   "metadata": {},
   "outputs": [
    {
     "name": "stdout",
     "output_type": "stream",
     "text": [
      "11\n"
     ]
    }
   ],
   "source": [
    "two_digit_number = input()\n",
    "\n",
    "first_digit = int(two_digit_number[0])\n",
    "second_digit = int(two_digit_number[1])\n",
    "\n",
    "# Add the two integers together\n",
    "two_digit_number = first_digit + second_digit\n",
    "\n",
    "print(two_digit_number)"
   ]
  },
  {
   "cell_type": "code",
   "execution_count": null,
   "metadata": {},
   "outputs": [],
   "source": [
    "height = input()\n",
    "weight = input()\n",
    "# Your code below this line 👇\n",
    "weight_as_int = int(weight)\n",
    "height_as_float = float(height)\n",
    "# Using the exponent operator **\n",
    "bmi = weight_as_int / height_as_float ** 2\n",
    "# or using multiplication and PEMDAS\n",
    "bmi = weight_as_int / (height_as_float * height_as_float)\n",
    "\n",
    "bmi_as_int = int(bmi)\n",
    "print(bmi_as_int)"
   ]
  },
  {
   "cell_type": "code",
   "execution_count": null,
   "metadata": {},
   "outputs": [],
   "source": [
    "age = input()\n",
    "# Your code below this line 👇\n",
    "years = 90 - int(age)\n",
    "weeks = years * 52\n",
    "\n",
    "print(f\"You have {weeks} weeks left.\")"
   ]
  },
  {
   "cell_type": "code",
   "execution_count": null,
   "metadata": {},
   "outputs": [],
   "source": []
  }
 ],
 "metadata": {
  "kernelspec": {
   "display_name": "Python 3",
   "language": "python",
   "name": "python3"
  },
  "language_info": {
   "codemirror_mode": {
    "name": "ipython",
    "version": 3
   },
   "file_extension": ".py",
   "mimetype": "text/x-python",
   "name": "python",
   "nbconvert_exporter": "python",
   "pygments_lexer": "ipython3",
   "version": "3.11.8"
  }
 },
 "nbformat": 4,
 "nbformat_minor": 2
}
