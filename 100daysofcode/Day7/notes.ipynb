{
 "cells": [
  {
   "cell_type": "code",
   "execution_count": 4,
   "metadata": {},
   "outputs": [
    {
     "name": "stdout",
     "output_type": "stream",
     "text": [
      "Try again! You have 4 Left\n",
      "Try again! You have 3 Left\n",
      "Try again! You have 2 Left\n",
      "Try again! You have 1 Left\n",
      "Try again! You have 0 Left\n"
     ]
    }
   ],
   "source": [
    "import random\n",
    "word_list = [\"advark\", \"baboon\", \"camel\"]\n",
    "random_word = random.choice(word_list)\n",
    "counter = 0\n",
    "for i in random_word:\n",
    "    guess_word = input(f\"Guess a word in the list - {word_list}\")\n",
    "    if guess_word == random_word:\n",
    "        print(\"Congrats!\")\n",
    "        break\n",
    "    else:\n",
    "        counter += 1\n",
    "        print(\"Try again! You have \" + str(len(random_word) - counter) + \" Left\" )"
   ]
  },
  {
   "cell_type": "code",
   "execution_count": 7,
   "metadata": {},
   "outputs": [
    {
     "name": "stdout",
     "output_type": "stream",
     "text": [
      "Wrong\n",
      "Right\n",
      "Wrong\n",
      "Wrong\n",
      "Wrong\n"
     ]
    }
   ],
   "source": [
    "import random\n",
    "choose_word = random.choice(word_list)\n",
    "guess = input(\"Guess a letter!\").lower()\n",
    "for letter in choose_word:\n",
    "    if letter == guess:\n",
    "        print(\"Right\")\n",
    "    else:\n",
    "        print(\"Wrong\")"
   ]
  }
 ],
 "metadata": {
  "kernelspec": {
   "display_name": "Python 3",
   "language": "python",
   "name": "python3"
  },
  "language_info": {
   "codemirror_mode": {
    "name": "ipython",
    "version": 3
   },
   "file_extension": ".py",
   "mimetype": "text/x-python",
   "name": "python",
   "nbconvert_exporter": "python",
   "pygments_lexer": "ipython3",
   "version": "3.11.6"
  }
 },
 "nbformat": 4,
 "nbformat_minor": 2
}
